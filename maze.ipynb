{
 "cells": [
  {
   "cell_type": "markdown",
   "id": "61454af1",
   "metadata": {},
   "source": [
    "# BFS"
   ]
  },
  {
   "cell_type": "code",
   "execution_count": 7,
   "id": "2231e699",
   "metadata": {},
   "outputs": [],
   "source": [
    "import collections\n",
    "\n",
    "def bfs(maze, start, end):\n",
    "    \"\"\"\n",
    "    Performs BFS on the maze to find the shortest path from start to end.\n",
    "\n",
    "    Args:\n",
    "        maze (list): 2D grid representing the maze.\n",
    "        start (tuple): Starting point coordinates (x, y).\n",
    "        end (tuple): Ending point coordinates (x, y).\n",
    "\n",
    "    Returns:\n",
    "        list: Shortest path from start to end.\n",
    "    \"\"\"\n",
    "    # Create a queue for BFS, enqueue the start point\n",
    "    queue = collections.deque([(start, [start])])\n",
    "\n",
    "    # Create a set to keep track of visited nodes\n",
    "    visited = set()\n",
    "\n",
    "    while queue:\n",
    "        # Dequeue the next node\n",
    "        (x, y), path = queue.popleft()\n",
    "\n",
    "        # If this is the end point, return the path\n",
    "        if (x, y) == end:\n",
    "            return path\n",
    "\n",
    "        # Mark the node as visited\n",
    "        visited.add((x, y))\n",
    "\n",
    "        # Explore neighbors\n",
    "        for dx, dy in [(1, 0), (-1, 0), (0, 1), (0, -1)]:\n",
    "            nx, ny = x + dx, y + dy\n",
    "\n",
    "            # Check if the neighbor is within bounds and not a wall\n",
    "            if (0 <= nx < len(maze)) and (0 <= ny < len(maze[0])) and maze[nx][ny] == 0:\n",
    "                # If the neighbor has not been visited, enqueue it\n",
    "                if (nx, ny) not in visited:\n",
    "                    queue.append(((nx, ny), path + [(nx, ny)]))\n",
    "\n",
    "    # If there is no path to the end point, return None\n",
    "    return None\n",
    "\n",
    "\n"
   ]
  },
  {
   "cell_type": "markdown",
   "id": "45749791",
   "metadata": {},
   "source": [
    "# getting the shortest parth"
   ]
  },
  {
   "cell_type": "code",
   "execution_count": 8,
   "id": "d436909e",
   "metadata": {},
   "outputs": [
    {
     "name": "stdout",
     "output_type": "stream",
     "text": [
      "Shortest path: [(0, 0), (1, 0), (2, 0), (3, 0), (4, 0), (4, 1), (4, 2), (4, 3), (4, 4)]\n"
     ]
    }
   ],
   "source": [
    "# Define the maze\n",
    "maze = [\n",
    "    [0, 0, 0, 0, 0],\n",
    "    [0, 1, 1, 0, 0],\n",
    "    [0, 0, 0, 0, 0],\n",
    "    [0, 1, 0, 0, 0],\n",
    "    [0, 0, 0, 0, 0]\n",
    "]\n",
    "\n",
    "# Define the start and end points\n",
    "start = (0, 0)\n",
    "end = (4, 4)\n",
    "\n",
    "# Call the BFS function\n",
    "path = bfs(maze, start, end)\n",
    "\n",
    "# Print the output\n",
    "if path is not None:\n",
    "    print(\"Shortest path:\", path)\n",
    "else:\n",
    "    print(\"No path found\")\n",
    "\n",
    "\n"
   ]
  },
  {
   "cell_type": "markdown",
   "id": "cfc2fcd8",
   "metadata": {},
   "source": [
    "# plotting the maze"
   ]
  },
  {
   "cell_type": "code",
   "execution_count": 9,
   "id": "f78dfec8",
   "metadata": {},
   "outputs": [
    {
     "data": {
      "image/png": "[encoded data removed]",
      "text/plain": [
       "<Figure size 640x480 with 1 Axes>"
      ]
     },
     "metadata": {},
     "output_type": "display_data"
    }
   ],
   "source": [
    "import matplotlib.pyplot as plt\n",
    "\n",
    "# Define the maze\n",
    "maze = [\n",
    "    [0, 0, 0, 0, 0],\n",
    "    [0, 1, 1, 0, 0],\n",
    "    [0, 0, 0, 0, 0],\n",
    "    [0, 1, 0, 0, 0],\n",
    "    [0, 0, 0, 0, 0]\n",
    "]\n",
    "\n",
    "# Define the start and end points\n",
    "start = (0, 0)\n",
    "end = (4, 4)\n",
    "\n",
    "# Call the BFS function\n",
    "path = bfs(maze, start, end)\n",
    "\n",
    "# Create a figure and axis\n",
    "fig, ax = plt.subplots()\n",
    "\n",
    "# Plot the maze\n",
    "for i in range(len(maze)):\n",
    "    for j in range(len(maze[0])):\n",
    "        if maze[i][j] == 1:\n",
    "            ax.plot([j, j+1, j+1, j, j], [i, i, i+1, i+1, i], 'k-')\n",
    "\n",
    "# Plot the path\n",
    "if path is not None:\n",
    "    path_x, path_y = zip(*path)\n",
    "    ax.plot(path_x, path_y, 'ro-')\n",
    "\n",
    "# Set axis limits and labels\n",
    "ax.set_xlim(0, len(maze[0]))\n",
    "ax.set_ylim(0, len(maze))\n",
    "ax.set_xlabel('X')\n",
    "ax.set_ylabel('Y')\n",
    "\n",
    "# Show the plot\n",
    "plt.show()    "
   ]
  },
  {
   "cell_type": "markdown",
   "id": "112fcec8",
   "metadata": {},
   "source": [
    "# DFS"
   ]
  },
  {
   "cell_type": "code",
   "execution_count": 10,
   "id": "6d8805e5",
   "metadata": {},
   "outputs": [],
   "source": [
    "def dfs(maze, start, end):\n",
    "    \"\"\"\n",
    "    Performs DFS on the maze to find the shortest path from start to end.\n",
    "\n",
    "    Args:\n",
    "        maze (list): 2D grid representing the maze.\n",
    "        start (tuple): Starting point coordinates (x, y).\n",
    "        end (tuple): Ending point coordinates (x, y).\n",
    "\n",
    "    Returns:\n",
    "        list: Shortest path from start to end.\n",
    "    \"\"\"\n",
    "    # Create a stack for DFS, push the start point\n",
    "    stack = [(start, [start])]\n",
    "\n",
    "    # Create a set to keep track of visited nodes\n",
    "    visited = set()\n",
    "\n",
    "    while stack:\n",
    "        # Pop the next node\n",
    "        (x, y), path = stack.pop()\n",
    "\n",
    "        # If this is the end point, return the path\n",
    "        if (x, y) == end:\n",
    "            return path\n",
    "\n",
    "        # Mark the node as visited\n",
    "        visited.add((x, y))\n",
    "\n",
    "        # Explore neighbors\n",
    "        for dx, dy in [(1, 0), (-1, 0), (0, 1), (0, -1)]:\n",
    "            nx, ny = x + dx, y + dy\n",
    "\n",
    "            # Check if the neighbor is within bounds and not a wall\n",
    "            if (0 <= nx < len(maze)) and (0 <= ny < len(maze[0])) and maze[nx][ny] == 0:\n",
    "                # If the neighbor has not been visited, push it\n",
    "                if (nx, ny) not in visited:\n",
    "                    stack.append(((nx, ny), path + [(nx, ny)]))\n",
    "\n",
    "    # If there is no path to the end point, return None\n",
    "    return None\n",
    "\n",
    "\n"
   ]
  },
  {
   "cell_type": "markdown",
   "id": "f83591f5",
   "metadata": {},
   "source": [
    "# Shortest parth"
   ]
  },
  {
   "cell_type": "code",
   "execution_count": 11,
   "id": "3d8ff7c5",
   "metadata": {},
   "outputs": [
    {
     "name": "stdout",
     "output_type": "stream",
     "text": [
      "Shortest path: [(0, 0), (0, 1), (0, 2), (0, 3), (0, 4), (1, 4), (1, 3), (2, 3), (2, 2), (2, 1), (2, 0), (3, 0), (4, 0), (4, 1), (4, 2), (4, 3)]\n"
     ]
    }
   ],
   "source": [
    "# Define the maze\n",
    "maze = [\n",
    "    [0, 0, 0, 0, 0],\n",
    "    [0, 1, 1, 0, 0],\n",
    "    [0, 0, 0, 0, 0],\n",
    "    [0, 1, 0, 0, 0],\n",
    "    [0, 0, 0, 0, 0]\n",
    "]\n",
    "\n",
    "# Define the start and end points\n",
    "start = (0, 0)\n",
    "end = (4, 3)\n",
    "\n",
    "# Call the DFS function\n",
    "path = dfs(maze, start, end)\n",
    "\n",
    "# Print the output\n",
    "if path is not None:\n",
    "    print(\"Shortest path:\", path)\n",
    "else:\n",
    "    print(\"No path found\")    \n",
    "\n",
    "\n"
   ]
  },
  {
   "cell_type": "markdown",
   "id": "07d87056",
   "metadata": {},
   "source": [
    "# plotting"
   ]
  },
  {
   "cell_type": "code",
   "execution_count": 13,
   "id": "702c3489",
   "metadata": {},
   "outputs": [
    {
     "data": {
      "image/png": "[encoded data removed]",
      "text/plain": [
       "<Figure size 640x480 with 1 Axes>"
      ]
     },
     "metadata": {},
     "output_type": "display_data"
    },
    {
     "data": {
      "text/plain": [
       "'\\n    [0, 0, 0, 0, 0],\\n    [0, 1, 1, 0, 0],\\n    [0, 0, 0, 0, 0],\\n    [1, 1, 0, 0, 0],\\n    [0, 0, 0, 0, 0] '"
      ]
     },
     "execution_count": 13,
     "metadata": {},
     "output_type": "execute_result"
    }
   ],
   "source": [
    "import matplotlib.pyplot as plt\n",
    "\n",
    "# Define the maze\n",
    "maze = [\n",
    "    [0, 0, 0, 0, 0],\n",
    "    [0, 1, 1, 0, 0],\n",
    "    [0, 0, 0, 0, 0],\n",
    "    [1, 1, 0, 0, 0],\n",
    "    [0, 0, 0, 0, 0]\n",
    "]\n",
    "\n",
    "# Define the start and end points\n",
    "start = (0,0)\n",
    "end = (4, 4)\n",
    "\n",
    "# Call the DFS function\n",
    "path = dfs(maze, start, end)\n",
    "\n",
    "# Create a figure and axis\n",
    "fig, ax = plt.subplots()\n",
    "\n",
    "# Plot the maze\n",
    "for i in range(len(maze)):\n",
    "    for j in range(len(maze[0])):\n",
    "        if maze[i][j] == 1:\n",
    "            ax.plot([j, j+1, j+1, j, j], [i, i, i+1, i+1, i], 'k-')\n",
    "\n",
    "# Plot the path\n",
    "if path is not None:\n",
    "    path_x, path_y = zip(*path)\n",
    "    ax.plot(path_x, path_y, 'ro-')\n",
    "\n",
    "# Set axis limits and labels\n",
    "ax.set_xlim(0, len(maze[0]))\n",
    "ax.set_ylim(0, len(maze))\n",
    "ax.set_xlabel('X')\n",
    "ax.set_ylabel('Y')\n",
    "\n",
    "# Show the plot\n",
    "plt.show()    \n",
    "\n",
    "'''\n",
    "    [0, 0, 0, 0, 0],\n",
    "    [0, 1, 1, 0, 0],\n",
    "    [0, 0, 0, 0, 0],\n",
    "    [1, 1, 0, 0, 0],\n",
    "    [0, 0, 0, 0, 0] '''\n"
   ]
  },
  {
   "cell_type": "code",
   "execution_count": null,
   "id": "b7b7a03c",
   "metadata": {},
   "outputs": [],
   "source": []
  },
  {
   "cell_type": "code",
   "execution_count": null,
   "id": "a9c86d89",
   "metadata": {},
   "outputs": [],
   "source": []
  }
 ],
 "metadata": {
  "kernelspec": {
   "display_name": "Python 3 (ipykernel)",
   "language": "python",
   "name": "python3"
  },
  "language_info": {
   "codemirror_mode": {
    "name": "ipython",
    "version": 3
   },
   "file_extension": ".py",
   "mimetype": "text/x-python",
   "name": "python",
   "nbconvert_exporter": "python",
   "pygments_lexer": "ipython3",
   "version": "3.10.0"
  }
 },
 "nbformat": 4,
 "nbformat_minor": 5
}
